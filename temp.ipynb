{
 "cells": [
  {
   "cell_type": "code",
   "execution_count": 12,
   "id": "71b6f6fc-e63a-411a-97c2-388a3a713ab5",
   "metadata": {},
   "outputs": [],
   "source": [
    "from IPython import display\n",
    "import matplotlib.pyplot as plt\n",
    "\n",
    "import gymnasium as gym\n",
    "import numpy as np\n",
    "\n",
    "\n",
    "env = gym.make(\n",
    "    \"f1tenth_gym:f1tenth-v0\",\n",
    "    config = {\n",
    "        \"map\": \"Spielberg\",\n",
    "        \"num_agents\": 1,\n",
    "    },\n",
    "    render_mode=\"human_fast\",\n",
    ")\n",
    "\n",
    "obs, info = env.reset()\n",
    "done = False\n",
    "\n",
    "while not done:\n",
    "    speed, steer = 10, 0\n",
    "    action = np.array([[steer, speed]])\n",
    "    obs, timestep, terminated, truncated, infos = env.step(action)\n",
    "    done = terminated or truncated\n",
    "    env.render()\n",
    "\n",
    "env.close()"
   ]
  },
  {
   "cell_type": "code",
   "execution_count": null,
   "id": "8e96ce77-10f3-4567-bce5-5ae346c60818",
   "metadata": {},
   "outputs": [],
   "source": []
  }
 ],
 "metadata": {
  "kernelspec": {
   "display_name": "py3.10",
   "language": "python",
   "name": "py3.10"
  },
  "language_info": {
   "codemirror_mode": {
    "name": "ipython",
    "version": 3
   },
   "file_extension": ".py",
   "mimetype": "text/x-python",
   "name": "python",
   "nbconvert_exporter": "python",
   "pygments_lexer": "ipython3",
   "version": "3.10.14"
  }
 },
 "nbformat": 4,
 "nbformat_minor": 5
}
